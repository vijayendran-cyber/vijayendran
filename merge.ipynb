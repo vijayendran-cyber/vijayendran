{
  "nbformat": 4,
  "nbformat_minor": 0,
  "metadata": {
    "colab": {
      "provenance": [],
      "toc_visible": true,
      "authorship_tag": "ABX9TyMECVx5DDqlttkTE8cKYvrs",
      "include_colab_link": true
    },
    "kernelspec": {
      "name": "python3",
      "display_name": "Python 3"
    },
    "language_info": {
      "name": "python"
    }
  },
  "cells": [
    {
      "cell_type": "markdown",
      "metadata": {
        "id": "view-in-github",
        "colab_type": "text"
      },
      "source": [
        "<a href=\"https://colab.research.google.com/github/vijayendran-cyber/vijayendran/blob/master/merge.ipynb\" target=\"_parent\"><img src=\"https://colab.research.google.com/assets/colab-badge.svg\" alt=\"Open In Colab\"/></a>"
      ]
    },
    {
      "cell_type": "code",
      "source": [
        "!pip install PyPDF2"
      ],
      "metadata": {
        "id": "uN8cKXZjaLcZ"
      },
      "execution_count": null,
      "outputs": []
    },
    {
      "cell_type": "code",
      "execution_count": null,
      "metadata": {
        "colab": {
          "base_uri": "https://localhost:8080/"
        },
        "id": "IFcrVMu-lkaC",
        "outputId": "85b9f55e-2217-4bd4-da73-7158fd55b9a4"
      },
      "outputs": [
        {
          "output_type": "stream",
          "name": "stdout",
          "text": [
            "Collecting PyPDF2\n",
            "  Downloading pypdf2-3.0.1-py3-none-any.whl.metadata (6.8 kB)\n",
            "Downloading pypdf2-3.0.1-py3-none-any.whl (232 kB)\n",
            "\u001b[?25l   \u001b[90m━━━━━━━━━━━━━━━━━━━━━━━━━━━━━━━━━━━━━━━━\u001b[0m \u001b[32m0.0/232.6 kB\u001b[0m \u001b[31m?\u001b[0m eta \u001b[36m-:--:--\u001b[0m\r\u001b[2K   \u001b[91m━━━━━━━━━━━━━━━━━━━━━━━━━━━━━━━━━━━━━━\u001b[0m\u001b[91m╸\u001b[0m\u001b[90m━\u001b[0m \u001b[32m225.3/232.6 kB\u001b[0m \u001b[31m10.1 MB/s\u001b[0m eta \u001b[36m0:00:01\u001b[0m\r\u001b[2K   \u001b[90m━━━━━━━━━━━━━━━━━━━━━━━━━━━━━━━━━━━━━━━━\u001b[0m \u001b[32m232.6/232.6 kB\u001b[0m \u001b[31m3.8 MB/s\u001b[0m eta \u001b[36m0:00:00\u001b[0m\n",
            "\u001b[?25hInstalling collected packages: PyPDF2\n",
            "Successfully installed PyPDF2-3.0.1\n"
          ]
        }
      ],
      "source": [
        "# merge_pdfs.ipynb\n",
        "from google.colab import files\n",
        "from PyPDF2 import PdfMerger\n",
        "import os\n",
        "\n",
        "# Upload PDF files\n",
        "uploaded = files.upload()\n",
        "\n",
        "# Get list of uploaded PDF files\n",
        "pdf_files = [f for f in uploaded.keys() if f.endswith('.pdf')]\n",
        "\n",
        "# Merge PDFs\n",
        "merger = PdfMerger()\n",
        "for pdf in pdf_files:\n",
        "    merger.append(pdf)\n",
        "\n",
        "# Save the merged PDF\n",
        "output_file = \"merged_output.pdf\"\n",
        "merger.write(output_file)\n",
        "merger.close()\n",
        "\n",
        "# Provide a download link for the merged PDF\n",
        "files.download(output_file)\n",
        "\n",
        "print(\"PDFs merged successfully! Download the merged file below.\")"
      ]
    }
  ]
}